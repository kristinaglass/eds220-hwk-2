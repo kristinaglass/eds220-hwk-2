{
 "cells": [
  {
   "cell_type": "markdown",
   "metadata": {},
   "source": [
    "# Task 2\n",
    "\n",
    "## General instructions\n",
    "\n",
    "First, update the following cell to have a link to your Homework 2 GitHub repository\n",
    "\n",
    "**UPDATE THIS LINK**\n",
    "https://github.com/kristinaglass/eds220-hwk-2\n",
    "\n",
    "Add comments for all your code and commit as needed. Err on the side of commenting and commiting too much for now.\n",
    "\n",
    "\n",
    "## About the data\n",
    "\n",
    "In this task you will use [Air Quality Index (AQI)](https://www.airnow.gov/aqi/aqi-basics/) data from the [US Environmental Protection Agency](https://www.epa.gov) to visualize the impact on the AQI of the 2017 [Thomas Fire](https://en.wikipedia.org/wiki/Thomas_Fire) in Santa Barbara County. "
   ]
  },
  {
   "cell_type": "markdown",
   "metadata": {},
   "source": [
    "## FINAL CODE\n",
    "\n",
    "You will use the next cell at the end of the task. Leave it blank for now. "
   ]
  },
  {
   "cell_type": "code",
   "execution_count": 1,
   "metadata": {},
   "outputs": [],
   "source": [
    "### ===== FINAL CODE ====="
   ]
  },
  {
   "cell_type": "markdown",
   "metadata": {},
   "source": [
    "## 1\n",
    "\n",
    "1. Go to [EPA's website on Air Quality Data Collected at Outdoor Monitors Across the US](https://www.epa.gov/outdoor-air-quality-data). \n",
    "2. Under \"Donwload Data\" click on \"Pre-generated Data Files\"\n",
    "3. Click on \"Tables of Daily AQI\"\n",
    "4. Copy the URL to the 2017 Daily AQI **by County** zip file `daily_aqi_by_county_2017.zip`\n",
    "5. In the next code cell read in the data from the URL using the `pd.read_csv` function and store it as `aqi_17`. \n",
    "6. In the same cell, read in the data for the 2018 Daily AQI by County zip file and store it as `aqi_18`."
   ]
  },
  {
   "cell_type": "code",
   "execution_count": 2,
   "metadata": {
    "tags": []
   },
   "outputs": [],
   "source": [
    "#import necessary libraries\n",
    "import pandas as pd"
   ]
  },
  {
   "cell_type": "code",
   "execution_count": 4,
   "metadata": {
    "tags": []
   },
   "outputs": [],
   "source": [
    "#read in 2017 and 2018 daily aqi by county\n",
    "aqi_17 = pd.read_csv(\"https://aqs.epa.gov/aqsweb/airdata/daily_aqi_by_county_2017.zip\")\n",
    "aqi_18 = pd.read_csv(\"https://aqs.epa.gov/aqsweb/airdata/daily_aqi_by_county_2018.zip\")"
   ]
  },
  {
   "cell_type": "markdown",
   "metadata": {},
   "source": [
    "## 2 \n",
    "(a) and (b) Use the next two cells to look at the head of both data frames.\n",
    "\n",
    "(c) Use this cell to make some other preliminary data exploration of your choosing."
   ]
  },
  {
   "cell_type": "code",
   "execution_count": 5,
   "metadata": {
    "tags": []
   },
   "outputs": [
    {
     "data": {
      "text/html": [
       "<div>\n",
       "<style scoped>\n",
       "    .dataframe tbody tr th:only-of-type {\n",
       "        vertical-align: middle;\n",
       "    }\n",
       "\n",
       "    .dataframe tbody tr th {\n",
       "        vertical-align: top;\n",
       "    }\n",
       "\n",
       "    .dataframe thead th {\n",
       "        text-align: right;\n",
       "    }\n",
       "</style>\n",
       "<table border=\"1\" class=\"dataframe\">\n",
       "  <thead>\n",
       "    <tr style=\"text-align: right;\">\n",
       "      <th></th>\n",
       "      <th>State Name</th>\n",
       "      <th>county Name</th>\n",
       "      <th>State Code</th>\n",
       "      <th>County Code</th>\n",
       "      <th>Date</th>\n",
       "      <th>AQI</th>\n",
       "      <th>Category</th>\n",
       "      <th>Defining Parameter</th>\n",
       "      <th>Defining Site</th>\n",
       "      <th>Number of Sites Reporting</th>\n",
       "    </tr>\n",
       "  </thead>\n",
       "  <tbody>\n",
       "    <tr>\n",
       "      <th>0</th>\n",
       "      <td>Alabama</td>\n",
       "      <td>Baldwin</td>\n",
       "      <td>1</td>\n",
       "      <td>3</td>\n",
       "      <td>2017-01-01</td>\n",
       "      <td>21</td>\n",
       "      <td>Good</td>\n",
       "      <td>PM2.5</td>\n",
       "      <td>01-003-0010</td>\n",
       "      <td>1</td>\n",
       "    </tr>\n",
       "    <tr>\n",
       "      <th>1</th>\n",
       "      <td>Alabama</td>\n",
       "      <td>Baldwin</td>\n",
       "      <td>1</td>\n",
       "      <td>3</td>\n",
       "      <td>2017-01-04</td>\n",
       "      <td>22</td>\n",
       "      <td>Good</td>\n",
       "      <td>PM2.5</td>\n",
       "      <td>01-003-0010</td>\n",
       "      <td>1</td>\n",
       "    </tr>\n",
       "    <tr>\n",
       "      <th>2</th>\n",
       "      <td>Alabama</td>\n",
       "      <td>Baldwin</td>\n",
       "      <td>1</td>\n",
       "      <td>3</td>\n",
       "      <td>2017-01-10</td>\n",
       "      <td>19</td>\n",
       "      <td>Good</td>\n",
       "      <td>PM2.5</td>\n",
       "      <td>01-003-0010</td>\n",
       "      <td>1</td>\n",
       "    </tr>\n",
       "    <tr>\n",
       "      <th>3</th>\n",
       "      <td>Alabama</td>\n",
       "      <td>Baldwin</td>\n",
       "      <td>1</td>\n",
       "      <td>3</td>\n",
       "      <td>2017-01-13</td>\n",
       "      <td>30</td>\n",
       "      <td>Good</td>\n",
       "      <td>PM2.5</td>\n",
       "      <td>01-003-0010</td>\n",
       "      <td>1</td>\n",
       "    </tr>\n",
       "    <tr>\n",
       "      <th>4</th>\n",
       "      <td>Alabama</td>\n",
       "      <td>Baldwin</td>\n",
       "      <td>1</td>\n",
       "      <td>3</td>\n",
       "      <td>2017-01-16</td>\n",
       "      <td>16</td>\n",
       "      <td>Good</td>\n",
       "      <td>PM2.5</td>\n",
       "      <td>01-003-0010</td>\n",
       "      <td>1</td>\n",
       "    </tr>\n",
       "  </tbody>\n",
       "</table>\n",
       "</div>"
      ],
      "text/plain": [
       "  State Name county Name  State Code  County Code        Date  AQI Category  \\\n",
       "0    Alabama     Baldwin           1            3  2017-01-01   21     Good   \n",
       "1    Alabama     Baldwin           1            3  2017-01-04   22     Good   \n",
       "2    Alabama     Baldwin           1            3  2017-01-10   19     Good   \n",
       "3    Alabama     Baldwin           1            3  2017-01-13   30     Good   \n",
       "4    Alabama     Baldwin           1            3  2017-01-16   16     Good   \n",
       "\n",
       "  Defining Parameter Defining Site  Number of Sites Reporting  \n",
       "0              PM2.5   01-003-0010                          1  \n",
       "1              PM2.5   01-003-0010                          1  \n",
       "2              PM2.5   01-003-0010                          1  \n",
       "3              PM2.5   01-003-0010                          1  \n",
       "4              PM2.5   01-003-0010                          1  "
      ]
     },
     "execution_count": 5,
     "metadata": {},
     "output_type": "execute_result"
    }
   ],
   "source": [
    "# (a)\n",
    "#view head of aqi_17\n",
    "aqi_17.head()"
   ]
  },
  {
   "cell_type": "code",
   "execution_count": 6,
   "metadata": {
    "tags": []
   },
   "outputs": [
    {
     "data": {
      "text/html": [
       "<div>\n",
       "<style scoped>\n",
       "    .dataframe tbody tr th:only-of-type {\n",
       "        vertical-align: middle;\n",
       "    }\n",
       "\n",
       "    .dataframe tbody tr th {\n",
       "        vertical-align: top;\n",
       "    }\n",
       "\n",
       "    .dataframe thead th {\n",
       "        text-align: right;\n",
       "    }\n",
       "</style>\n",
       "<table border=\"1\" class=\"dataframe\">\n",
       "  <thead>\n",
       "    <tr style=\"text-align: right;\">\n",
       "      <th></th>\n",
       "      <th>State Name</th>\n",
       "      <th>county Name</th>\n",
       "      <th>State Code</th>\n",
       "      <th>County Code</th>\n",
       "      <th>Date</th>\n",
       "      <th>AQI</th>\n",
       "      <th>Category</th>\n",
       "      <th>Defining Parameter</th>\n",
       "      <th>Defining Site</th>\n",
       "      <th>Number of Sites Reporting</th>\n",
       "    </tr>\n",
       "  </thead>\n",
       "  <tbody>\n",
       "    <tr>\n",
       "      <th>0</th>\n",
       "      <td>Alabama</td>\n",
       "      <td>Baldwin</td>\n",
       "      <td>1</td>\n",
       "      <td>3</td>\n",
       "      <td>2018-01-02</td>\n",
       "      <td>32</td>\n",
       "      <td>Good</td>\n",
       "      <td>PM2.5</td>\n",
       "      <td>01-003-0010</td>\n",
       "      <td>1</td>\n",
       "    </tr>\n",
       "    <tr>\n",
       "      <th>1</th>\n",
       "      <td>Alabama</td>\n",
       "      <td>Baldwin</td>\n",
       "      <td>1</td>\n",
       "      <td>3</td>\n",
       "      <td>2018-01-05</td>\n",
       "      <td>34</td>\n",
       "      <td>Good</td>\n",
       "      <td>PM2.5</td>\n",
       "      <td>01-003-0010</td>\n",
       "      <td>1</td>\n",
       "    </tr>\n",
       "    <tr>\n",
       "      <th>2</th>\n",
       "      <td>Alabama</td>\n",
       "      <td>Baldwin</td>\n",
       "      <td>1</td>\n",
       "      <td>3</td>\n",
       "      <td>2018-01-08</td>\n",
       "      <td>15</td>\n",
       "      <td>Good</td>\n",
       "      <td>PM2.5</td>\n",
       "      <td>01-003-0010</td>\n",
       "      <td>1</td>\n",
       "    </tr>\n",
       "    <tr>\n",
       "      <th>3</th>\n",
       "      <td>Alabama</td>\n",
       "      <td>Baldwin</td>\n",
       "      <td>1</td>\n",
       "      <td>3</td>\n",
       "      <td>2018-01-11</td>\n",
       "      <td>19</td>\n",
       "      <td>Good</td>\n",
       "      <td>PM2.5</td>\n",
       "      <td>01-003-0010</td>\n",
       "      <td>1</td>\n",
       "    </tr>\n",
       "    <tr>\n",
       "      <th>4</th>\n",
       "      <td>Alabama</td>\n",
       "      <td>Baldwin</td>\n",
       "      <td>1</td>\n",
       "      <td>3</td>\n",
       "      <td>2018-01-14</td>\n",
       "      <td>25</td>\n",
       "      <td>Good</td>\n",
       "      <td>PM2.5</td>\n",
       "      <td>01-003-0010</td>\n",
       "      <td>1</td>\n",
       "    </tr>\n",
       "  </tbody>\n",
       "</table>\n",
       "</div>"
      ],
      "text/plain": [
       "  State Name county Name  State Code  County Code        Date  AQI Category  \\\n",
       "0    Alabama     Baldwin           1            3  2018-01-02   32     Good   \n",
       "1    Alabama     Baldwin           1            3  2018-01-05   34     Good   \n",
       "2    Alabama     Baldwin           1            3  2018-01-08   15     Good   \n",
       "3    Alabama     Baldwin           1            3  2018-01-11   19     Good   \n",
       "4    Alabama     Baldwin           1            3  2018-01-14   25     Good   \n",
       "\n",
       "  Defining Parameter Defining Site  Number of Sites Reporting  \n",
       "0              PM2.5   01-003-0010                          1  \n",
       "1              PM2.5   01-003-0010                          1  \n",
       "2              PM2.5   01-003-0010                          1  \n",
       "3              PM2.5   01-003-0010                          1  \n",
       "4              PM2.5   01-003-0010                          1  "
      ]
     },
     "execution_count": 6,
     "metadata": {},
     "output_type": "execute_result"
    }
   ],
   "source": [
    "# (b)\n",
    "#view head of aqi_18\n",
    "aqi_18.head()"
   ]
  },
  {
   "cell_type": "code",
   "execution_count": 10,
   "metadata": {
    "tags": []
   },
   "outputs": [
    {
     "data": {
      "text/plain": [
       "pandas.core.frame.DataFrame"
      ]
     },
     "execution_count": 10,
     "metadata": {},
     "output_type": "execute_result"
    }
   ],
   "source": [
    "# (c)\n",
    "#view number of objects in aqi_17\n",
    "len(aqi_17)\n",
    "# 326801\n",
    "\n",
    "#view type of aqi_18\n",
    "type(aqi_18)\n",
    "#pandas.core.frame.DataFrame"
   ]
  },
  {
   "cell_type": "markdown",
   "metadata": {},
   "source": [
    "## 3\n",
    "We currently have two separate dataframes. For this exercise we will need to \"glue\" them one on top of the other. The pandas function `pd.concat()` can achieve this. \n",
    "\n",
    "Pass `[aqi_17, aqi_18]` as the input of `pd.concat()` and store the output as  `aqi`.  \n",
    "In the next line run `aqi`.\n",
    "\n",
    "👀 NOTE: When we concatenate like this, without any extra parameters for `pd.concat()` the indices for the two dataframes are just \"glued together\", the index of the resulting dataframe is not updated to start from 0. Notice the index of `aqi` ends in 327536 while it has 654338 rows.\n"
   ]
  },
  {
   "cell_type": "code",
   "execution_count": 14,
   "metadata": {
    "tags": []
   },
   "outputs": [
    {
     "data": {
      "text/html": [
       "<div>\n",
       "<style scoped>\n",
       "    .dataframe tbody tr th:only-of-type {\n",
       "        vertical-align: middle;\n",
       "    }\n",
       "\n",
       "    .dataframe tbody tr th {\n",
       "        vertical-align: top;\n",
       "    }\n",
       "\n",
       "    .dataframe thead th {\n",
       "        text-align: right;\n",
       "    }\n",
       "</style>\n",
       "<table border=\"1\" class=\"dataframe\">\n",
       "  <thead>\n",
       "    <tr style=\"text-align: right;\">\n",
       "      <th></th>\n",
       "      <th>State Name</th>\n",
       "      <th>county Name</th>\n",
       "      <th>State Code</th>\n",
       "      <th>County Code</th>\n",
       "      <th>Date</th>\n",
       "      <th>AQI</th>\n",
       "      <th>Category</th>\n",
       "      <th>Defining Parameter</th>\n",
       "      <th>Defining Site</th>\n",
       "      <th>Number of Sites Reporting</th>\n",
       "    </tr>\n",
       "  </thead>\n",
       "  <tbody>\n",
       "    <tr>\n",
       "      <th>0</th>\n",
       "      <td>Alabama</td>\n",
       "      <td>Baldwin</td>\n",
       "      <td>1</td>\n",
       "      <td>3</td>\n",
       "      <td>2017-01-01</td>\n",
       "      <td>21</td>\n",
       "      <td>Good</td>\n",
       "      <td>PM2.5</td>\n",
       "      <td>01-003-0010</td>\n",
       "      <td>1</td>\n",
       "    </tr>\n",
       "    <tr>\n",
       "      <th>1</th>\n",
       "      <td>Alabama</td>\n",
       "      <td>Baldwin</td>\n",
       "      <td>1</td>\n",
       "      <td>3</td>\n",
       "      <td>2017-01-04</td>\n",
       "      <td>22</td>\n",
       "      <td>Good</td>\n",
       "      <td>PM2.5</td>\n",
       "      <td>01-003-0010</td>\n",
       "      <td>1</td>\n",
       "    </tr>\n",
       "    <tr>\n",
       "      <th>2</th>\n",
       "      <td>Alabama</td>\n",
       "      <td>Baldwin</td>\n",
       "      <td>1</td>\n",
       "      <td>3</td>\n",
       "      <td>2017-01-10</td>\n",
       "      <td>19</td>\n",
       "      <td>Good</td>\n",
       "      <td>PM2.5</td>\n",
       "      <td>01-003-0010</td>\n",
       "      <td>1</td>\n",
       "    </tr>\n",
       "    <tr>\n",
       "      <th>3</th>\n",
       "      <td>Alabama</td>\n",
       "      <td>Baldwin</td>\n",
       "      <td>1</td>\n",
       "      <td>3</td>\n",
       "      <td>2017-01-13</td>\n",
       "      <td>30</td>\n",
       "      <td>Good</td>\n",
       "      <td>PM2.5</td>\n",
       "      <td>01-003-0010</td>\n",
       "      <td>1</td>\n",
       "    </tr>\n",
       "    <tr>\n",
       "      <th>4</th>\n",
       "      <td>Alabama</td>\n",
       "      <td>Baldwin</td>\n",
       "      <td>1</td>\n",
       "      <td>3</td>\n",
       "      <td>2017-01-16</td>\n",
       "      <td>16</td>\n",
       "      <td>Good</td>\n",
       "      <td>PM2.5</td>\n",
       "      <td>01-003-0010</td>\n",
       "      <td>1</td>\n",
       "    </tr>\n",
       "    <tr>\n",
       "      <th>...</th>\n",
       "      <td>...</td>\n",
       "      <td>...</td>\n",
       "      <td>...</td>\n",
       "      <td>...</td>\n",
       "      <td>...</td>\n",
       "      <td>...</td>\n",
       "      <td>...</td>\n",
       "      <td>...</td>\n",
       "      <td>...</td>\n",
       "      <td>...</td>\n",
       "    </tr>\n",
       "    <tr>\n",
       "      <th>654333</th>\n",
       "      <td>Wyoming</td>\n",
       "      <td>Weston</td>\n",
       "      <td>56</td>\n",
       "      <td>45</td>\n",
       "      <td>2018-12-27</td>\n",
       "      <td>36</td>\n",
       "      <td>Good</td>\n",
       "      <td>Ozone</td>\n",
       "      <td>56-045-0003</td>\n",
       "      <td>1</td>\n",
       "    </tr>\n",
       "    <tr>\n",
       "      <th>654334</th>\n",
       "      <td>Wyoming</td>\n",
       "      <td>Weston</td>\n",
       "      <td>56</td>\n",
       "      <td>45</td>\n",
       "      <td>2018-12-28</td>\n",
       "      <td>35</td>\n",
       "      <td>Good</td>\n",
       "      <td>Ozone</td>\n",
       "      <td>56-045-0003</td>\n",
       "      <td>1</td>\n",
       "    </tr>\n",
       "    <tr>\n",
       "      <th>654335</th>\n",
       "      <td>Wyoming</td>\n",
       "      <td>Weston</td>\n",
       "      <td>56</td>\n",
       "      <td>45</td>\n",
       "      <td>2018-12-29</td>\n",
       "      <td>35</td>\n",
       "      <td>Good</td>\n",
       "      <td>Ozone</td>\n",
       "      <td>56-045-0003</td>\n",
       "      <td>1</td>\n",
       "    </tr>\n",
       "    <tr>\n",
       "      <th>654336</th>\n",
       "      <td>Wyoming</td>\n",
       "      <td>Weston</td>\n",
       "      <td>56</td>\n",
       "      <td>45</td>\n",
       "      <td>2018-12-30</td>\n",
       "      <td>31</td>\n",
       "      <td>Good</td>\n",
       "      <td>Ozone</td>\n",
       "      <td>56-045-0003</td>\n",
       "      <td>1</td>\n",
       "    </tr>\n",
       "    <tr>\n",
       "      <th>654337</th>\n",
       "      <td>Wyoming</td>\n",
       "      <td>Weston</td>\n",
       "      <td>56</td>\n",
       "      <td>45</td>\n",
       "      <td>2018-12-31</td>\n",
       "      <td>35</td>\n",
       "      <td>Good</td>\n",
       "      <td>Ozone</td>\n",
       "      <td>56-045-0003</td>\n",
       "      <td>1</td>\n",
       "    </tr>\n",
       "  </tbody>\n",
       "</table>\n",
       "<p>654338 rows × 10 columns</p>\n",
       "</div>"
      ],
      "text/plain": [
       "       State Name county Name  State Code  County Code        Date  AQI  \\\n",
       "0         Alabama     Baldwin           1            3  2017-01-01   21   \n",
       "1         Alabama     Baldwin           1            3  2017-01-04   22   \n",
       "2         Alabama     Baldwin           1            3  2017-01-10   19   \n",
       "3         Alabama     Baldwin           1            3  2017-01-13   30   \n",
       "4         Alabama     Baldwin           1            3  2017-01-16   16   \n",
       "...           ...         ...         ...          ...         ...  ...   \n",
       "654333    Wyoming      Weston          56           45  2018-12-27   36   \n",
       "654334    Wyoming      Weston          56           45  2018-12-28   35   \n",
       "654335    Wyoming      Weston          56           45  2018-12-29   35   \n",
       "654336    Wyoming      Weston          56           45  2018-12-30   31   \n",
       "654337    Wyoming      Weston          56           45  2018-12-31   35   \n",
       "\n",
       "       Category Defining Parameter Defining Site  Number of Sites Reporting  \n",
       "0          Good              PM2.5   01-003-0010                          1  \n",
       "1          Good              PM2.5   01-003-0010                          1  \n",
       "2          Good              PM2.5   01-003-0010                          1  \n",
       "3          Good              PM2.5   01-003-0010                          1  \n",
       "4          Good              PM2.5   01-003-0010                          1  \n",
       "...         ...                ...           ...                        ...  \n",
       "654333     Good              Ozone   56-045-0003                          1  \n",
       "654334     Good              Ozone   56-045-0003                          1  \n",
       "654335     Good              Ozone   56-045-0003                          1  \n",
       "654336     Good              Ozone   56-045-0003                          1  \n",
       "654337     Good              Ozone   56-045-0003                          1  \n",
       "\n",
       "[654338 rows x 10 columns]"
      ]
     },
     "execution_count": 14,
     "metadata": {},
     "output_type": "execute_result"
    }
   ],
   "source": [
    "#combine both datasets\n",
    "# ignore automatically generated index\n",
    "aqi = pd.concat([aqi_17, aqi_18], ignore_index = True)\n",
    "\n",
    "aqi"
   ]
  },
  {
   "cell_type": "markdown",
   "metadata": {},
   "source": [
    "## 4\n",
    "\n",
    "Run the follwoing cell and read the comments to understand how the column names are being updated."
   ]
  },
  {
   "cell_type": "code",
   "execution_count": 15,
   "metadata": {
    "tags": []
   },
   "outputs": [
    {
     "name": "stdout",
     "output_type": "stream",
     "text": [
      "Index(['State Name', 'county Name', 'State Code', 'County Code', 'Date', 'AQI',\n",
      "       'Category', 'Defining Parameter', 'Defining Site',\n",
      "       'Number of Sites Reporting'],\n",
      "      dtype='object') \n",
      "\n",
      "Index(['state name', 'county name', 'state code', 'county code', 'date', 'aqi',\n",
      "       'category', 'defining parameter', 'defining site',\n",
      "       'number of sites reporting'],\n",
      "      dtype='object') \n",
      "\n",
      "Index(['state_name', 'county_name', 'state_code', 'county_code', 'date', 'aqi',\n",
      "       'category', 'defining_parameter', 'defining_site',\n",
      "       'number_of_sites_reporting'],\n",
      "      dtype='object')\n"
     ]
    }
   ],
   "source": [
    "# initial column names: notice caps and spaces (difficult to work with!)\n",
    "print(aqi.columns, '\\n')\n",
    "\n",
    "# re-assign the column names - .str.lower() makes them lower case\n",
    "aqi.columns = aqi.columns.str.lower()\n",
    "print(aqi.columns, '\\n')\n",
    "\n",
    "#  re-assign the column names again - .str.replace(' ','_') replaces the space for _\n",
    "aqi.columns = aqi.columns.str.replace(' ','_')\n",
    "print(aqi.columns)\n",
    "\n",
    "# as a \"one liner\" you could achieve this column name cleaning like this:\n",
    "# aqi.columns = aqi.columns.str.lower().str.replace(' ','_')"
   ]
  },
  {
   "cell_type": "markdown",
   "metadata": {},
   "source": [
    "## 5 \n",
    "In the next cell:\n",
    "- Select only data from `Santa Barbara` county and store in a new variable `aqi_sb`.\n",
    "- Remove the `state_name`, `county_name`, `state_code` and `county_code` columns from `aqi_sb`. \n",
    "- Use the `dtypes` attribute to check the data types of the columns. What do you notice for the date column?"
   ]
  },
  {
   "cell_type": "code",
   "execution_count": 26,
   "metadata": {
    "tags": []
   },
   "outputs": [
    {
     "data": {
      "text/html": [
       "<div>\n",
       "<style scoped>\n",
       "    .dataframe tbody tr th:only-of-type {\n",
       "        vertical-align: middle;\n",
       "    }\n",
       "\n",
       "    .dataframe tbody tr th {\n",
       "        vertical-align: top;\n",
       "    }\n",
       "\n",
       "    .dataframe thead th {\n",
       "        text-align: right;\n",
       "    }\n",
       "</style>\n",
       "<table border=\"1\" class=\"dataframe\">\n",
       "  <thead>\n",
       "    <tr style=\"text-align: right;\">\n",
       "      <th></th>\n",
       "      <th>date</th>\n",
       "      <th>aqi</th>\n",
       "      <th>category</th>\n",
       "      <th>defining_parameter</th>\n",
       "      <th>defining_site</th>\n",
       "      <th>number_of_sites_reporting</th>\n",
       "    </tr>\n",
       "  </thead>\n",
       "  <tbody>\n",
       "    <tr>\n",
       "      <th>28648</th>\n",
       "      <td>2017-01-01</td>\n",
       "      <td>39</td>\n",
       "      <td>Good</td>\n",
       "      <td>Ozone</td>\n",
       "      <td>06-083-4003</td>\n",
       "      <td>12</td>\n",
       "    </tr>\n",
       "    <tr>\n",
       "      <th>28649</th>\n",
       "      <td>2017-01-02</td>\n",
       "      <td>36</td>\n",
       "      <td>Good</td>\n",
       "      <td>Ozone</td>\n",
       "      <td>06-083-4003</td>\n",
       "      <td>11</td>\n",
       "    </tr>\n",
       "    <tr>\n",
       "      <th>28650</th>\n",
       "      <td>2017-01-03</td>\n",
       "      <td>71</td>\n",
       "      <td>Moderate</td>\n",
       "      <td>PM10</td>\n",
       "      <td>06-083-4003</td>\n",
       "      <td>12</td>\n",
       "    </tr>\n",
       "    <tr>\n",
       "      <th>28651</th>\n",
       "      <td>2017-01-04</td>\n",
       "      <td>34</td>\n",
       "      <td>Good</td>\n",
       "      <td>Ozone</td>\n",
       "      <td>06-083-4003</td>\n",
       "      <td>13</td>\n",
       "    </tr>\n",
       "    <tr>\n",
       "      <th>28652</th>\n",
       "      <td>2017-01-05</td>\n",
       "      <td>37</td>\n",
       "      <td>Good</td>\n",
       "      <td>Ozone</td>\n",
       "      <td>06-083-4003</td>\n",
       "      <td>12</td>\n",
       "    </tr>\n",
       "    <tr>\n",
       "      <th>...</th>\n",
       "      <td>...</td>\n",
       "      <td>...</td>\n",
       "      <td>...</td>\n",
       "      <td>...</td>\n",
       "      <td>...</td>\n",
       "      <td>...</td>\n",
       "    </tr>\n",
       "    <tr>\n",
       "      <th>355929</th>\n",
       "      <td>2018-12-27</td>\n",
       "      <td>37</td>\n",
       "      <td>Good</td>\n",
       "      <td>Ozone</td>\n",
       "      <td>06-083-1025</td>\n",
       "      <td>11</td>\n",
       "    </tr>\n",
       "    <tr>\n",
       "      <th>355930</th>\n",
       "      <td>2018-12-28</td>\n",
       "      <td>39</td>\n",
       "      <td>Good</td>\n",
       "      <td>Ozone</td>\n",
       "      <td>06-083-1021</td>\n",
       "      <td>12</td>\n",
       "    </tr>\n",
       "    <tr>\n",
       "      <th>355931</th>\n",
       "      <td>2018-12-29</td>\n",
       "      <td>39</td>\n",
       "      <td>Good</td>\n",
       "      <td>Ozone</td>\n",
       "      <td>06-083-1021</td>\n",
       "      <td>12</td>\n",
       "    </tr>\n",
       "    <tr>\n",
       "      <th>355932</th>\n",
       "      <td>2018-12-30</td>\n",
       "      <td>39</td>\n",
       "      <td>Good</td>\n",
       "      <td>Ozone</td>\n",
       "      <td>06-083-1021</td>\n",
       "      <td>12</td>\n",
       "    </tr>\n",
       "    <tr>\n",
       "      <th>355933</th>\n",
       "      <td>2018-12-31</td>\n",
       "      <td>38</td>\n",
       "      <td>Good</td>\n",
       "      <td>Ozone</td>\n",
       "      <td>06-083-1021</td>\n",
       "      <td>12</td>\n",
       "    </tr>\n",
       "  </tbody>\n",
       "</table>\n",
       "<p>730 rows × 6 columns</p>\n",
       "</div>"
      ],
      "text/plain": [
       "              date  aqi  category defining_parameter defining_site  \\\n",
       "28648   2017-01-01   39      Good              Ozone   06-083-4003   \n",
       "28649   2017-01-02   36      Good              Ozone   06-083-4003   \n",
       "28650   2017-01-03   71  Moderate               PM10   06-083-4003   \n",
       "28651   2017-01-04   34      Good              Ozone   06-083-4003   \n",
       "28652   2017-01-05   37      Good              Ozone   06-083-4003   \n",
       "...            ...  ...       ...                ...           ...   \n",
       "355929  2018-12-27   37      Good              Ozone   06-083-1025   \n",
       "355930  2018-12-28   39      Good              Ozone   06-083-1021   \n",
       "355931  2018-12-29   39      Good              Ozone   06-083-1021   \n",
       "355932  2018-12-30   39      Good              Ozone   06-083-1021   \n",
       "355933  2018-12-31   38      Good              Ozone   06-083-1021   \n",
       "\n",
       "        number_of_sites_reporting  \n",
       "28648                          12  \n",
       "28649                          11  \n",
       "28650                          12  \n",
       "28651                          13  \n",
       "28652                          12  \n",
       "...                           ...  \n",
       "355929                         11  \n",
       "355930                         12  \n",
       "355931                         12  \n",
       "355932                         12  \n",
       "355933                         12  \n",
       "\n",
       "[730 rows x 6 columns]"
      ]
     },
     "execution_count": 26,
     "metadata": {},
     "output_type": "execute_result"
    }
   ],
   "source": [
    "#subset Santa Barbara County from data frame\n",
    "aqi_sb = aqi[aqi['county_name'] == \"Santa Barbara\"]\n",
    "#check new dataframe\n",
    "aqi_sb\n",
    "#remove state_name, county_name, state_code, and county_code\n",
    "aqi_sb = aqi_sb.drop(columns=[\"state_name\", \"county_name\", \"state_code\", \"county_code\"])\n",
    "#checking new data types\n",
    "aqi_sb.dtypes\n",
    "#the data types are objects and integers"
   ]
  },
  {
   "cell_type": "markdown",
   "metadata": {},
   "source": [
    "## 6\n",
    "In the next cell:\n",
    "1. Update the date column of `aqi_sb` to be a datetime object.\n",
    "2. Update the index of `aqi_sb` to be the date column."
   ]
  },
  {
   "cell_type": "code",
   "execution_count": 29,
   "metadata": {
    "tags": []
   },
   "outputs": [
    {
     "data": {
      "text/html": [
       "<div>\n",
       "<style scoped>\n",
       "    .dataframe tbody tr th:only-of-type {\n",
       "        vertical-align: middle;\n",
       "    }\n",
       "\n",
       "    .dataframe tbody tr th {\n",
       "        vertical-align: top;\n",
       "    }\n",
       "\n",
       "    .dataframe thead th {\n",
       "        text-align: right;\n",
       "    }\n",
       "</style>\n",
       "<table border=\"1\" class=\"dataframe\">\n",
       "  <thead>\n",
       "    <tr style=\"text-align: right;\">\n",
       "      <th></th>\n",
       "      <th>aqi</th>\n",
       "      <th>category</th>\n",
       "      <th>defining_parameter</th>\n",
       "      <th>defining_site</th>\n",
       "      <th>number_of_sites_reporting</th>\n",
       "    </tr>\n",
       "    <tr>\n",
       "      <th>date</th>\n",
       "      <th></th>\n",
       "      <th></th>\n",
       "      <th></th>\n",
       "      <th></th>\n",
       "      <th></th>\n",
       "    </tr>\n",
       "  </thead>\n",
       "  <tbody>\n",
       "    <tr>\n",
       "      <th>2017-01-01</th>\n",
       "      <td>39</td>\n",
       "      <td>Good</td>\n",
       "      <td>Ozone</td>\n",
       "      <td>06-083-4003</td>\n",
       "      <td>12</td>\n",
       "    </tr>\n",
       "    <tr>\n",
       "      <th>2017-01-02</th>\n",
       "      <td>36</td>\n",
       "      <td>Good</td>\n",
       "      <td>Ozone</td>\n",
       "      <td>06-083-4003</td>\n",
       "      <td>11</td>\n",
       "    </tr>\n",
       "    <tr>\n",
       "      <th>2017-01-03</th>\n",
       "      <td>71</td>\n",
       "      <td>Moderate</td>\n",
       "      <td>PM10</td>\n",
       "      <td>06-083-4003</td>\n",
       "      <td>12</td>\n",
       "    </tr>\n",
       "    <tr>\n",
       "      <th>2017-01-04</th>\n",
       "      <td>34</td>\n",
       "      <td>Good</td>\n",
       "      <td>Ozone</td>\n",
       "      <td>06-083-4003</td>\n",
       "      <td>13</td>\n",
       "    </tr>\n",
       "    <tr>\n",
       "      <th>2017-01-05</th>\n",
       "      <td>37</td>\n",
       "      <td>Good</td>\n",
       "      <td>Ozone</td>\n",
       "      <td>06-083-4003</td>\n",
       "      <td>12</td>\n",
       "    </tr>\n",
       "  </tbody>\n",
       "</table>\n",
       "</div>"
      ],
      "text/plain": [
       "            aqi  category defining_parameter defining_site  \\\n",
       "date                                                         \n",
       "2017-01-01   39      Good              Ozone   06-083-4003   \n",
       "2017-01-02   36      Good              Ozone   06-083-4003   \n",
       "2017-01-03   71  Moderate               PM10   06-083-4003   \n",
       "2017-01-04   34      Good              Ozone   06-083-4003   \n",
       "2017-01-05   37      Good              Ozone   06-083-4003   \n",
       "\n",
       "            number_of_sites_reporting  \n",
       "date                                   \n",
       "2017-01-01                         12  \n",
       "2017-01-02                         11  \n",
       "2017-01-03                         12  \n",
       "2017-01-04                         13  \n",
       "2017-01-05                         12  "
      ]
     },
     "execution_count": 29,
     "metadata": {},
     "output_type": "execute_result"
    }
   ],
   "source": [
    "#updating date column to datetime from object\n",
    "aqi_sb.date = pd.to_datetime(aqi_sb.date)\n",
    "#check column\n",
    "aqi_sb.dtypes\n",
    "#update index\n",
    "aqi_sb = aqi_sb.set_index(\"date\")\n",
    "#check if index worked\n",
    "aqi_sb.head()"
   ]
  },
  {
   "cell_type": "markdown",
   "metadata": {},
   "source": [
    "## 7\n",
    "In the next cell, check that you've updated the index by accessing the index of `aqi_sb`  by running `aqi_sb.index`. Add in a comment what is the data type (dtype) of the index."
   ]
  },
  {
   "cell_type": "code",
   "execution_count": 30,
   "metadata": {
    "tags": []
   },
   "outputs": [
    {
     "data": {
      "text/plain": [
       "DatetimeIndex(['2017-01-01', '2017-01-02', '2017-01-03', '2017-01-04',\n",
       "               '2017-01-05', '2017-01-06', '2017-01-07', '2017-01-08',\n",
       "               '2017-01-09', '2017-01-10',\n",
       "               ...\n",
       "               '2018-12-22', '2018-12-23', '2018-12-24', '2018-12-25',\n",
       "               '2018-12-26', '2018-12-27', '2018-12-28', '2018-12-29',\n",
       "               '2018-12-30', '2018-12-31'],\n",
       "              dtype='datetime64[ns]', name='date', length=730, freq=None)"
      ]
     },
     "execution_count": 30,
     "metadata": {},
     "output_type": "execute_result"
    }
   ],
   "source": [
    "# check if index updated\n",
    "aqi_sb.index\n",
    "#index is now DateTimeIndex"
   ]
  },
  {
   "cell_type": "markdown",
   "metadata": {},
   "source": [
    "## 8\n",
    "Run the next cell and read through the comments. They will explain how to calculate an average over a [rolling window](https://pandas.pydata.org/pandas-docs/stable/reference/api/pandas.Series.rolling.html).\n",
    "\n",
    "\n"
   ]
  },
  {
   "cell_type": "code",
   "execution_count": 31,
   "metadata": {
    "tags": []
   },
   "outputs": [
    {
     "data": {
      "text/plain": [
       "date\n",
       "2017-01-01    39.000000\n",
       "2017-01-02    37.500000\n",
       "2017-01-03    48.666667\n",
       "2017-01-04    45.000000\n",
       "2017-01-05    43.400000\n",
       "                ...    \n",
       "2018-12-27    38.600000\n",
       "2018-12-28    38.600000\n",
       "2018-12-29    38.200000\n",
       "2018-12-30    37.800000\n",
       "2018-12-31    38.400000\n",
       "Name: aqi, Length: 730, dtype: float64"
      ]
     },
     "execution_count": 31,
     "metadata": {},
     "output_type": "execute_result"
    }
   ],
   "source": [
    "# rolling() is a method for pandas.series that provides rolling window calculations\n",
    "# the parameter '5D' indicates we want the window to be 5 days\n",
    "# This is a lazy method (think groupby), we need to specify what we want to calculate over each window\n",
    "# here we add the aggregator function mean()\n",
    "# this indicates we want the mean over each window\n",
    "# and we get a pd.Series as ouput\n",
    "aqi_sb.aqi.rolling('5D').mean()"
   ]
  },
  {
   "cell_type": "markdown",
   "metadata": {},
   "source": [
    "## 9 \n",
    "\n",
    "Without creating any new variables, add the mean of the AQI over a 5-day rolling window as a new column named 'five_day_average' to the `aqi_sb` dataframe. "
   ]
  },
  {
   "cell_type": "code",
   "execution_count": 36,
   "metadata": {
    "tags": []
   },
   "outputs": [
    {
     "data": {
      "text/plain": [
       "['aqi',\n",
       " 'category',\n",
       " 'defining_parameter',\n",
       " 'defining_site',\n",
       " 'number_of_sites_reporting',\n",
       " 'five_day_average']"
      ]
     },
     "execution_count": 36,
     "metadata": {},
     "output_type": "execute_result"
    }
   ],
   "source": [
    "# adding five day average column\n",
    "aqi_sb['five_day_average'] = aqi_sb.aqi.rolling('5D').mean()\n",
    "#checking colomns\n",
    "list(aqi_sb)"
   ]
  },
  {
   "cell_type": "markdown",
   "metadata": {},
   "source": [
    "## 10\n",
    "Make a line plot showing both the daily AQI and the 5-day average (5-day average on top of the AQI). Update the title and colors of the graph. Can you see the AQI going up during the Thomas Fire in December 2017?"
   ]
  },
  {
   "cell_type": "code",
   "execution_count": 40,
   "metadata": {
    "tags": []
   },
   "outputs": [
    {
     "data": {
      "text/plain": [
       "<AxesSubplot:title={'center':'Change in glacial volume per year in Alaska and the Arctic'}, xlabel='Year', ylabel='Change in glacial volume (km3)'>"
      ]
     },
     "execution_count": 40,
     "metadata": {},
     "output_type": "execute_result"
    },
    {
     "data": {
      "image/png": "[encoded data removed]",
      "text/plain": [
       "<Figure size 640x480 with 1 Axes>"
      ]
     },
     "metadata": {},
     "output_type": "display_data"
    }
   ],
   "source": [
    "aqi_sb.plot(x='aqi', \n",
    "        y=['five_day_average'],\n",
    "        title = 'Change in glacial volume per year in Alaska and the Arctic',\n",
    "        xlabel='Year',\n",
    "        ylabel='Change in glacial volume (km3)',        \n",
    "        color = {'aqi':'#F48FB1',\n",
    "                 'five_day_average': '#AB47BC'\n",
    "                 }\n",
    "        )"
   ]
  },
  {
   "cell_type": "markdown",
   "metadata": {},
   "source": [
    "## 11\n",
    "\n",
    "Collect all the relevant code into the first blank cell of the notebook titled \"FINAL CODE\". This single cell will have the end-to-end workflow: from importing libraries and loading the data, to producing the graph. The *only* ouput of this cell should be the graph you produced in the previous exercise. For each line, add a single comment explaining what the code does."
   ]
  }
 ],
 "metadata": {
  "kernelspec": {
   "display_name": "Python 3 (ipykernel)",
   "language": "python",
   "name": "python3"
  },
  "language_info": {
   "codemirror_mode": {
    "name": "ipython",
    "version": 3
   },
   "file_extension": ".py",
   "mimetype": "text/x-python",
   "name": "python",
   "nbconvert_exporter": "python",
   "pygments_lexer": "ipython3",
   "version": "3.7.13"
  },
  "vscode": {
   "interpreter": {
    "hash": "096ff075efa46b48fdc6093cb088d328f1206dfedfbeb0f42cf6b14174f51118"
   }
  }
 },
 "nbformat": 4,
 "nbformat_minor": 4
}
